{
 "cells": [
  {
   "cell_type": "markdown",
   "metadata": {},
   "source": [
    "# Notebook 3: Rotate Select Mito Contigs<a class=\"tocSkip\">\n",
    "\n",
    "**We have to rotate mito contigs for two of the samples. If we don't do this then the next notebook doesn't have the correct data from minimap2 (since the hits are fragmented).**\n",
    "    \n",
    "*Note that I won't update the data table in the notebook. I'll do it manually in the Terra UI.*\n",
    "    \n",
    "    \n",
    "**The steps that we will take are:**\n",
    "1. Import Statements & Global Variable Definitions\n",
    "2. Load Data Table\n",
    "5. Rotate Select Circular Mito Contigs"
   ]
  },
  {
   "cell_type": "markdown",
   "metadata": {},
   "source": [
    "# Import Statements & Global Variable Definitions"
   ]
  },
  {
   "cell_type": "markdown",
   "metadata": {},
   "source": [
    "## Load Python packages\n",
    "----"
   ]
  },
  {
   "cell_type": "code",
   "execution_count": 1,
   "metadata": {},
   "outputs": [],
   "source": [
    "%%capture \n",
    "import terra_notebook_utils as tnu\n",
    "import terra_pandas as tp\n",
    "import os\n",
    "import io\n",
    "import gzip\n",
    "import pandas as pd\n",
    "import numpy as np\n",
    "from Bio import SeqIO\n",
    "from Bio.Seq import Seq, Alphabet"
   ]
  },
  {
   "cell_type": "markdown",
   "metadata": {},
   "source": [
    "## Set Environment Variables"
   ]
  },
  {
   "cell_type": "code",
   "execution_count": 2,
   "metadata": {},
   "outputs": [
    {
     "name": "stdout",
     "output_type": "stream",
     "text": [
      "Billing project: human-pangenome-ucsc\n",
      "Workspace: HPRC_Reassembly\n",
      "Workspace storage bucket: gs://fc-0c2122a8-6725-4199-b90e-828ab006078f/\n"
     ]
    }
   ],
   "source": [
    "# Get the Google billing project name and workspace name\n",
    "PROJECT = os.environ['WORKSPACE_NAMESPACE']\n",
    "WORKSPACE = os.path.basename(os.path.dirname(os.getcwd()))\n",
    "bucket = os.environ['WORKSPACE_BUCKET'] + \"/\"\n",
    "\n",
    "# Verify that we've captured the environment variables\n",
    "print(\"Billing project: \" + PROJECT)\n",
    "print(\"Workspace: \" + WORKSPACE)\n",
    "print(\"Workspace storage bucket: \" + bucket)"
   ]
  },
  {
   "cell_type": "markdown",
   "metadata": {},
   "source": [
    "## Function Definitions"
   ]
  },
  {
   "cell_type": "markdown",
   "metadata": {},
   "source": [
    "# Load Data Table"
   ]
  },
  {
   "cell_type": "code",
   "execution_count": 3,
   "metadata": {},
   "outputs": [
    {
     "data": {
      "text/html": [
       "<div>\n",
       "<style scoped>\n",
       "    .dataframe tbody tr th:only-of-type {\n",
       "        vertical-align: middle;\n",
       "    }\n",
       "\n",
       "    .dataframe tbody tr th {\n",
       "        vertical-align: top;\n",
       "    }\n",
       "\n",
       "    .dataframe thead th {\n",
       "        text-align: right;\n",
       "    }\n",
       "</style>\n",
       "<table border=\"1\" class=\"dataframe\">\n",
       "  <thead>\n",
       "    <tr style=\"text-align: right;\">\n",
       "      <th></th>\n",
       "      <th>mat_masked_fa</th>\n",
       "      <th>mito_against_ref_paf</th>\n",
       "      <th>pat_masked_cleaned_fa</th>\n",
       "      <th>mat_masked_cleaned_fa</th>\n",
       "      <th>pat_mito_contig_ls</th>\n",
       "      <th>pat_contam_results</th>\n",
       "      <th>mat_mito_contig_ls</th>\n",
       "      <th>hifiasm_mat_fa</th>\n",
       "      <th>all_mito_contigs</th>\n",
       "      <th>hifiasm_pat_fa</th>\n",
       "      <th>sample_name</th>\n",
       "      <th>pat_drop_contigs</th>\n",
       "      <th>mat_drop_contigs</th>\n",
       "      <th>pat_masked_fa</th>\n",
       "      <th>mat_contam_results</th>\n",
       "    </tr>\n",
       "    <tr>\n",
       "      <th>clean_sample_id</th>\n",
       "      <th></th>\n",
       "      <th></th>\n",
       "      <th></th>\n",
       "      <th></th>\n",
       "      <th></th>\n",
       "      <th></th>\n",
       "      <th></th>\n",
       "      <th></th>\n",
       "      <th></th>\n",
       "      <th></th>\n",
       "      <th></th>\n",
       "      <th></th>\n",
       "      <th></th>\n",
       "      <th></th>\n",
       "      <th></th>\n",
       "    </tr>\n",
       "  </thead>\n",
       "  <tbody>\n",
       "    <tr>\n",
       "      <th>HG002_downsampled</th>\n",
       "      <td>gs://fc-0c2122a8-6725-4199-b90e-828ab006078f/a...</td>\n",
       "      <td>gs://fc-0c2122a8-6725-4199-b90e-828ab006078f/d...</td>\n",
       "      <td>gs://fc-0c2122a8-6725-4199-b90e-828ab006078f/3...</td>\n",
       "      <td>gs://fc-0c2122a8-6725-4199-b90e-828ab006078f/1...</td>\n",
       "      <td>gs://fc-0c2122a8-6725-4199-b90e-828ab006078f/m...</td>\n",
       "      <td>gs://fc-0c2122a8-6725-4199-b90e-828ab006078f/k...</td>\n",
       "      <td>gs://fc-0c2122a8-6725-4199-b90e-828ab006078f/m...</td>\n",
       "      <td>gs://fc-0c2122a8-6725-4199-b90e-828ab006078f/2...</td>\n",
       "      <td>gs://fc-0c2122a8-6725-4199-b90e-828ab006078f/8...</td>\n",
       "      <td>gs://fc-0c2122a8-6725-4199-b90e-828ab006078f/2...</td>\n",
       "      <td>HG002</td>\n",
       "      <td>gs://fc-0c2122a8-6725-4199-b90e-828ab006078f/c...</td>\n",
       "      <td>gs://fc-0c2122a8-6725-4199-b90e-828ab006078f/c...</td>\n",
       "      <td>gs://fc-0c2122a8-6725-4199-b90e-828ab006078f/7...</td>\n",
       "      <td>gs://fc-0c2122a8-6725-4199-b90e-828ab006078f/k...</td>\n",
       "    </tr>\n",
       "    <tr>\n",
       "      <th>HG002_full_v0.14</th>\n",
       "      <td>gs://fc-0c2122a8-6725-4199-b90e-828ab006078f/a...</td>\n",
       "      <td>gs://fc-0c2122a8-6725-4199-b90e-828ab006078f/d...</td>\n",
       "      <td>gs://fc-0c2122a8-6725-4199-b90e-828ab006078f/3...</td>\n",
       "      <td>gs://fc-0c2122a8-6725-4199-b90e-828ab006078f/1...</td>\n",
       "      <td>gs://fc-0c2122a8-6725-4199-b90e-828ab006078f/m...</td>\n",
       "      <td>gs://fc-0c2122a8-6725-4199-b90e-828ab006078f/k...</td>\n",
       "      <td>gs://fc-0c2122a8-6725-4199-b90e-828ab006078f/m...</td>\n",
       "      <td>gs://fc-0c2122a8-6725-4199-b90e-828ab006078f/f...</td>\n",
       "      <td>gs://fc-0c2122a8-6725-4199-b90e-828ab006078f/8...</td>\n",
       "      <td>gs://fc-0c2122a8-6725-4199-b90e-828ab006078f/f...</td>\n",
       "      <td>HG002</td>\n",
       "      <td>gs://fc-0c2122a8-6725-4199-b90e-828ab006078f/c...</td>\n",
       "      <td>gs://fc-0c2122a8-6725-4199-b90e-828ab006078f/c...</td>\n",
       "      <td>gs://fc-0c2122a8-6725-4199-b90e-828ab006078f/7...</td>\n",
       "      <td>gs://fc-0c2122a8-6725-4199-b90e-828ab006078f/k...</td>\n",
       "    </tr>\n",
       "    <tr>\n",
       "      <th>HG00438</th>\n",
       "      <td>gs://fc-0c2122a8-6725-4199-b90e-828ab006078f/a...</td>\n",
       "      <td>gs://fc-0c2122a8-6725-4199-b90e-828ab006078f/d...</td>\n",
       "      <td>gs://fc-0c2122a8-6725-4199-b90e-828ab006078f/3...</td>\n",
       "      <td>gs://fc-0c2122a8-6725-4199-b90e-828ab006078f/1...</td>\n",
       "      <td>gs://fc-0c2122a8-6725-4199-b90e-828ab006078f/m...</td>\n",
       "      <td>gs://fc-0c2122a8-6725-4199-b90e-828ab006078f/k...</td>\n",
       "      <td>gs://fc-0c2122a8-6725-4199-b90e-828ab006078f/m...</td>\n",
       "      <td>gs://fc-0c2122a8-6725-4199-b90e-828ab006078f/c...</td>\n",
       "      <td>gs://fc-0c2122a8-6725-4199-b90e-828ab006078f/8...</td>\n",
       "      <td>gs://fc-0c2122a8-6725-4199-b90e-828ab006078f/c...</td>\n",
       "      <td>HG00438</td>\n",
       "      <td>gs://fc-0c2122a8-6725-4199-b90e-828ab006078f/c...</td>\n",
       "      <td>gs://fc-0c2122a8-6725-4199-b90e-828ab006078f/c...</td>\n",
       "      <td>gs://fc-0c2122a8-6725-4199-b90e-828ab006078f/7...</td>\n",
       "      <td>gs://fc-0c2122a8-6725-4199-b90e-828ab006078f/k...</td>\n",
       "    </tr>\n",
       "    <tr>\n",
       "      <th>HG005</th>\n",
       "      <td>gs://fc-0c2122a8-6725-4199-b90e-828ab006078f/a...</td>\n",
       "      <td>gs://fc-0c2122a8-6725-4199-b90e-828ab006078f/d...</td>\n",
       "      <td>gs://fc-0c2122a8-6725-4199-b90e-828ab006078f/3...</td>\n",
       "      <td>gs://fc-0c2122a8-6725-4199-b90e-828ab006078f/1...</td>\n",
       "      <td>gs://fc-0c2122a8-6725-4199-b90e-828ab006078f/m...</td>\n",
       "      <td>gs://fc-0c2122a8-6725-4199-b90e-828ab006078f/k...</td>\n",
       "      <td>gs://fc-0c2122a8-6725-4199-b90e-828ab006078f/m...</td>\n",
       "      <td>gs://fc-0c2122a8-6725-4199-b90e-828ab006078f/c...</td>\n",
       "      <td>gs://fc-0c2122a8-6725-4199-b90e-828ab006078f/8...</td>\n",
       "      <td>gs://fc-0c2122a8-6725-4199-b90e-828ab006078f/c...</td>\n",
       "      <td>HG005</td>\n",
       "      <td>gs://fc-0c2122a8-6725-4199-b90e-828ab006078f/c...</td>\n",
       "      <td>gs://fc-0c2122a8-6725-4199-b90e-828ab006078f/c...</td>\n",
       "      <td>gs://fc-0c2122a8-6725-4199-b90e-828ab006078f/7...</td>\n",
       "      <td>gs://fc-0c2122a8-6725-4199-b90e-828ab006078f/k...</td>\n",
       "    </tr>\n",
       "    <tr>\n",
       "      <th>HG00621</th>\n",
       "      <td>gs://fc-0c2122a8-6725-4199-b90e-828ab006078f/a...</td>\n",
       "      <td>gs://fc-0c2122a8-6725-4199-b90e-828ab006078f/d...</td>\n",
       "      <td>gs://fc-0c2122a8-6725-4199-b90e-828ab006078f/3...</td>\n",
       "      <td>gs://fc-0c2122a8-6725-4199-b90e-828ab006078f/1...</td>\n",
       "      <td>gs://fc-0c2122a8-6725-4199-b90e-828ab006078f/m...</td>\n",
       "      <td>gs://fc-0c2122a8-6725-4199-b90e-828ab006078f/k...</td>\n",
       "      <td>gs://fc-0c2122a8-6725-4199-b90e-828ab006078f/m...</td>\n",
       "      <td>gs://fc-0c2122a8-6725-4199-b90e-828ab006078f/c...</td>\n",
       "      <td>gs://fc-0c2122a8-6725-4199-b90e-828ab006078f/8...</td>\n",
       "      <td>gs://fc-0c2122a8-6725-4199-b90e-828ab006078f/c...</td>\n",
       "      <td>HG00621</td>\n",
       "      <td>gs://fc-0c2122a8-6725-4199-b90e-828ab006078f/c...</td>\n",
       "      <td>gs://fc-0c2122a8-6725-4199-b90e-828ab006078f/c...</td>\n",
       "      <td>gs://fc-0c2122a8-6725-4199-b90e-828ab006078f/7...</td>\n",
       "      <td>gs://fc-0c2122a8-6725-4199-b90e-828ab006078f/k...</td>\n",
       "    </tr>\n",
       "  </tbody>\n",
       "</table>\n",
       "</div>"
      ],
      "text/plain": [
       "                                                       mat_masked_fa  \\\n",
       "clean_sample_id                                                        \n",
       "HG002_downsampled  gs://fc-0c2122a8-6725-4199-b90e-828ab006078f/a...   \n",
       "HG002_full_v0.14   gs://fc-0c2122a8-6725-4199-b90e-828ab006078f/a...   \n",
       "HG00438            gs://fc-0c2122a8-6725-4199-b90e-828ab006078f/a...   \n",
       "HG005              gs://fc-0c2122a8-6725-4199-b90e-828ab006078f/a...   \n",
       "HG00621            gs://fc-0c2122a8-6725-4199-b90e-828ab006078f/a...   \n",
       "\n",
       "                                                mito_against_ref_paf  \\\n",
       "clean_sample_id                                                        \n",
       "HG002_downsampled  gs://fc-0c2122a8-6725-4199-b90e-828ab006078f/d...   \n",
       "HG002_full_v0.14   gs://fc-0c2122a8-6725-4199-b90e-828ab006078f/d...   \n",
       "HG00438            gs://fc-0c2122a8-6725-4199-b90e-828ab006078f/d...   \n",
       "HG005              gs://fc-0c2122a8-6725-4199-b90e-828ab006078f/d...   \n",
       "HG00621            gs://fc-0c2122a8-6725-4199-b90e-828ab006078f/d...   \n",
       "\n",
       "                                               pat_masked_cleaned_fa  \\\n",
       "clean_sample_id                                                        \n",
       "HG002_downsampled  gs://fc-0c2122a8-6725-4199-b90e-828ab006078f/3...   \n",
       "HG002_full_v0.14   gs://fc-0c2122a8-6725-4199-b90e-828ab006078f/3...   \n",
       "HG00438            gs://fc-0c2122a8-6725-4199-b90e-828ab006078f/3...   \n",
       "HG005              gs://fc-0c2122a8-6725-4199-b90e-828ab006078f/3...   \n",
       "HG00621            gs://fc-0c2122a8-6725-4199-b90e-828ab006078f/3...   \n",
       "\n",
       "                                               mat_masked_cleaned_fa  \\\n",
       "clean_sample_id                                                        \n",
       "HG002_downsampled  gs://fc-0c2122a8-6725-4199-b90e-828ab006078f/1...   \n",
       "HG002_full_v0.14   gs://fc-0c2122a8-6725-4199-b90e-828ab006078f/1...   \n",
       "HG00438            gs://fc-0c2122a8-6725-4199-b90e-828ab006078f/1...   \n",
       "HG005              gs://fc-0c2122a8-6725-4199-b90e-828ab006078f/1...   \n",
       "HG00621            gs://fc-0c2122a8-6725-4199-b90e-828ab006078f/1...   \n",
       "\n",
       "                                                  pat_mito_contig_ls  \\\n",
       "clean_sample_id                                                        \n",
       "HG002_downsampled  gs://fc-0c2122a8-6725-4199-b90e-828ab006078f/m...   \n",
       "HG002_full_v0.14   gs://fc-0c2122a8-6725-4199-b90e-828ab006078f/m...   \n",
       "HG00438            gs://fc-0c2122a8-6725-4199-b90e-828ab006078f/m...   \n",
       "HG005              gs://fc-0c2122a8-6725-4199-b90e-828ab006078f/m...   \n",
       "HG00621            gs://fc-0c2122a8-6725-4199-b90e-828ab006078f/m...   \n",
       "\n",
       "                                                  pat_contam_results  \\\n",
       "clean_sample_id                                                        \n",
       "HG002_downsampled  gs://fc-0c2122a8-6725-4199-b90e-828ab006078f/k...   \n",
       "HG002_full_v0.14   gs://fc-0c2122a8-6725-4199-b90e-828ab006078f/k...   \n",
       "HG00438            gs://fc-0c2122a8-6725-4199-b90e-828ab006078f/k...   \n",
       "HG005              gs://fc-0c2122a8-6725-4199-b90e-828ab006078f/k...   \n",
       "HG00621            gs://fc-0c2122a8-6725-4199-b90e-828ab006078f/k...   \n",
       "\n",
       "                                                  mat_mito_contig_ls  \\\n",
       "clean_sample_id                                                        \n",
       "HG002_downsampled  gs://fc-0c2122a8-6725-4199-b90e-828ab006078f/m...   \n",
       "HG002_full_v0.14   gs://fc-0c2122a8-6725-4199-b90e-828ab006078f/m...   \n",
       "HG00438            gs://fc-0c2122a8-6725-4199-b90e-828ab006078f/m...   \n",
       "HG005              gs://fc-0c2122a8-6725-4199-b90e-828ab006078f/m...   \n",
       "HG00621            gs://fc-0c2122a8-6725-4199-b90e-828ab006078f/m...   \n",
       "\n",
       "                                                      hifiasm_mat_fa  \\\n",
       "clean_sample_id                                                        \n",
       "HG002_downsampled  gs://fc-0c2122a8-6725-4199-b90e-828ab006078f/2...   \n",
       "HG002_full_v0.14   gs://fc-0c2122a8-6725-4199-b90e-828ab006078f/f...   \n",
       "HG00438            gs://fc-0c2122a8-6725-4199-b90e-828ab006078f/c...   \n",
       "HG005              gs://fc-0c2122a8-6725-4199-b90e-828ab006078f/c...   \n",
       "HG00621            gs://fc-0c2122a8-6725-4199-b90e-828ab006078f/c...   \n",
       "\n",
       "                                                    all_mito_contigs  \\\n",
       "clean_sample_id                                                        \n",
       "HG002_downsampled  gs://fc-0c2122a8-6725-4199-b90e-828ab006078f/8...   \n",
       "HG002_full_v0.14   gs://fc-0c2122a8-6725-4199-b90e-828ab006078f/8...   \n",
       "HG00438            gs://fc-0c2122a8-6725-4199-b90e-828ab006078f/8...   \n",
       "HG005              gs://fc-0c2122a8-6725-4199-b90e-828ab006078f/8...   \n",
       "HG00621            gs://fc-0c2122a8-6725-4199-b90e-828ab006078f/8...   \n",
       "\n",
       "                                                      hifiasm_pat_fa  \\\n",
       "clean_sample_id                                                        \n",
       "HG002_downsampled  gs://fc-0c2122a8-6725-4199-b90e-828ab006078f/2...   \n",
       "HG002_full_v0.14   gs://fc-0c2122a8-6725-4199-b90e-828ab006078f/f...   \n",
       "HG00438            gs://fc-0c2122a8-6725-4199-b90e-828ab006078f/c...   \n",
       "HG005              gs://fc-0c2122a8-6725-4199-b90e-828ab006078f/c...   \n",
       "HG00621            gs://fc-0c2122a8-6725-4199-b90e-828ab006078f/c...   \n",
       "\n",
       "                  sample_name  \\\n",
       "clean_sample_id                 \n",
       "HG002_downsampled       HG002   \n",
       "HG002_full_v0.14        HG002   \n",
       "HG00438               HG00438   \n",
       "HG005                   HG005   \n",
       "HG00621               HG00621   \n",
       "\n",
       "                                                    pat_drop_contigs  \\\n",
       "clean_sample_id                                                        \n",
       "HG002_downsampled  gs://fc-0c2122a8-6725-4199-b90e-828ab006078f/c...   \n",
       "HG002_full_v0.14   gs://fc-0c2122a8-6725-4199-b90e-828ab006078f/c...   \n",
       "HG00438            gs://fc-0c2122a8-6725-4199-b90e-828ab006078f/c...   \n",
       "HG005              gs://fc-0c2122a8-6725-4199-b90e-828ab006078f/c...   \n",
       "HG00621            gs://fc-0c2122a8-6725-4199-b90e-828ab006078f/c...   \n",
       "\n",
       "                                                    mat_drop_contigs  \\\n",
       "clean_sample_id                                                        \n",
       "HG002_downsampled  gs://fc-0c2122a8-6725-4199-b90e-828ab006078f/c...   \n",
       "HG002_full_v0.14   gs://fc-0c2122a8-6725-4199-b90e-828ab006078f/c...   \n",
       "HG00438            gs://fc-0c2122a8-6725-4199-b90e-828ab006078f/c...   \n",
       "HG005              gs://fc-0c2122a8-6725-4199-b90e-828ab006078f/c...   \n",
       "HG00621            gs://fc-0c2122a8-6725-4199-b90e-828ab006078f/c...   \n",
       "\n",
       "                                                       pat_masked_fa  \\\n",
       "clean_sample_id                                                        \n",
       "HG002_downsampled  gs://fc-0c2122a8-6725-4199-b90e-828ab006078f/7...   \n",
       "HG002_full_v0.14   gs://fc-0c2122a8-6725-4199-b90e-828ab006078f/7...   \n",
       "HG00438            gs://fc-0c2122a8-6725-4199-b90e-828ab006078f/7...   \n",
       "HG005              gs://fc-0c2122a8-6725-4199-b90e-828ab006078f/7...   \n",
       "HG00621            gs://fc-0c2122a8-6725-4199-b90e-828ab006078f/7...   \n",
       "\n",
       "                                                  mat_contam_results  \n",
       "clean_sample_id                                                       \n",
       "HG002_downsampled  gs://fc-0c2122a8-6725-4199-b90e-828ab006078f/k...  \n",
       "HG002_full_v0.14   gs://fc-0c2122a8-6725-4199-b90e-828ab006078f/k...  \n",
       "HG00438            gs://fc-0c2122a8-6725-4199-b90e-828ab006078f/k...  \n",
       "HG005              gs://fc-0c2122a8-6725-4199-b90e-828ab006078f/k...  \n",
       "HG00621            gs://fc-0c2122a8-6725-4199-b90e-828ab006078f/k...  "
      ]
     },
     "execution_count": 3,
     "metadata": {},
     "output_type": "execute_result"
    }
   ],
   "source": [
    "sample_df = tp.table_to_dataframe(\"clean_sample\")\n",
    "\n",
    "sample_df.head()"
   ]
  },
  {
   "cell_type": "markdown",
   "metadata": {},
   "source": [
    "# Rotate Select Circular Mito Contigs\n",
    "\n",
    "If we don't do this for HG02559 and HG03098 then the minimap2 results for these samples are fragmented. Technically we should be looking for circular contigs in all samples, but the rest of the samples seem to have plenty of linear contigs to pull a full length MT contig from. These two samples only have circular contigs."
   ]
  },
  {
   "cell_type": "code",
   "execution_count": 4,
   "metadata": {},
   "outputs": [
    {
     "name": "stdout",
     "output_type": "stream",
     "text": [
      "mkdir: cannot create directory ‘rotate_mito’: File exists\n",
      "/home/jupyter-user/notebooks/HPRC_Reassembly/edit/rotate_mito\n"
     ]
    }
   ],
   "source": [
    "! mkdir rotate_mito\n",
    "%cd rotate_mito"
   ]
  },
  {
   "cell_type": "markdown",
   "metadata": {},
   "source": [
    "## Rotate HG02559"
   ]
  },
  {
   "cell_type": "code",
   "execution_count": 5,
   "metadata": {},
   "outputs": [
    {
     "name": "stdout",
     "output_type": "stream",
     "text": [
      "Copying gs://fc-0c2122a8-6725-4199-b90e-828ab006078f/85e90c15-bb68-4ea2-bfe2-56fd21fbb795/extractMitoContigs/0b95739b-748d-4c83-abf7-e905330dc40c/call-extractContigs/cacheCopy/HG02559.all_mito_contigs.fa...\n",
      "/ [1 files][ 32.9 KiB/ 32.9 KiB]                                                \n",
      "Operation completed over 1 objects/32.9 KiB.                                     \n"
     ]
    }
   ],
   "source": [
    "sample_name = \"HG02559\"\n",
    "sample_row  = sample_df.loc[sample_df.index == sample_name]\n",
    "\n",
    "mt_contigs_fp = sample_row['all_mito_contigs'][0]\n",
    "mt_contigs_fn = os.path.basename(mt_contigs_fp)\n",
    "\n",
    "! gsutil cp {mt_contigs_fp} ."
   ]
  },
  {
   "cell_type": "code",
   "execution_count": 6,
   "metadata": {},
   "outputs": [],
   "source": [
    "## Pulled this from the first attempt to cut the mito contigs\n",
    "rotation      = 13282"
   ]
  },
  {
   "cell_type": "markdown",
   "metadata": {},
   "source": [
    "**Pull fasta sequence and rotate, then add the rotated sequence to the original fa**"
   ]
  },
  {
   "cell_type": "code",
   "execution_count": 7,
   "metadata": {},
   "outputs": [],
   "source": [
    "records = SeqIO.parse(mt_contigs_fn, 'fasta')\n",
    "\n",
    "with open(mt_contigs_fn) as handle:\n",
    "    for record in  SeqIO.parse(handle, \"fasta\"):\n",
    "        if record.id == \"h2tg000306c\":\n",
    "            ## Extract string, then rotate\n",
    "            original_seq_str  = str(record.seq)\n",
    "            rotated_seq_str   = original_seq_str[rotation:] + original_seq_str[:rotation]\n",
    "            \n",
    "            ## Write to SeqIO record\n",
    "            record.seq  = Seq(rotated_seq_str, Alphabet.generic_dna)\n",
    "            record.id   = \"h2tg000306c-rotated\"\n",
    "            record.description = \"h2tg000306c-rotated\"\n",
    "            \n",
    "            ## There are two copies that are the same (different IDs): only need to write one\n",
    "            break\n",
    "            \n",
    "with open(\"tmp.fa\", \"w\") as output_handle:\n",
    "    SeqIO.write(record, output_handle, \"fasta\")"
   ]
  },
  {
   "cell_type": "code",
   "execution_count": 8,
   "metadata": {},
   "outputs": [],
   "source": [
    "! cat {mt_contigs_fn} tmp.fa > tmp && mv tmp {mt_contigs_fn}"
   ]
  },
  {
   "cell_type": "code",
   "execution_count": 9,
   "metadata": {},
   "outputs": [
    {
     "name": "stdout",
     "output_type": "stream",
     "text": [
      "Copying file://HG02559.all_mito_contigs.fa [Content-Type=application/octet-stream]...\n",
      "/ [1 files][ 49.4 KiB/ 49.4 KiB]                                                \n",
      "Operation completed over 1 objects/49.4 KiB.                                     \n"
     ]
    }
   ],
   "source": [
    "! gsutil cp {mt_contigs_fn} {bucket}mito_work/manually_rotated/{mt_contigs_fn}"
   ]
  },
  {
   "cell_type": "markdown",
   "metadata": {},
   "source": [
    "## Rotate HG03098"
   ]
  },
  {
   "cell_type": "code",
   "execution_count": 10,
   "metadata": {},
   "outputs": [
    {
     "name": "stdout",
     "output_type": "stream",
     "text": [
      "Copying gs://fc-0c2122a8-6725-4199-b90e-828ab006078f/85e90c15-bb68-4ea2-bfe2-56fd21fbb795/extractMitoContigs/02edf5da-32f6-423e-ba53-b38a5d4c345e/call-extractContigs/cacheCopy/HG03098.all_mito_contigs.fa...\n",
      "/ [1 files][ 32.9 KiB/ 32.9 KiB]                                                \n",
      "Operation completed over 1 objects/32.9 KiB.                                     \n"
     ]
    }
   ],
   "source": [
    "sample_name = \"HG03098\"\n",
    "sample_row  = sample_df.loc[sample_df.index == sample_name]\n",
    "\n",
    "mt_contigs_fp = sample_row['all_mito_contigs'][0]\n",
    "mt_contigs_fn = os.path.basename(mt_contigs_fp)\n",
    "\n",
    "! gsutil cp {mt_contigs_fp} ."
   ]
  },
  {
   "cell_type": "code",
   "execution_count": 11,
   "metadata": {},
   "outputs": [],
   "source": [
    "## Pulled this from the first attempt to cut the mito contigs\n",
    "rotation      = 6252"
   ]
  },
  {
   "cell_type": "code",
   "execution_count": 12,
   "metadata": {},
   "outputs": [],
   "source": [
    "records = SeqIO.parse(mt_contigs_fn, 'fasta')\n",
    "\n",
    "with open(mt_contigs_fn) as handle:\n",
    "    for record in  SeqIO.parse(handle, \"fasta\"):\n",
    "        if record.id == \"h2tg000243c\":\n",
    "            ## Extract string, then rotate\n",
    "            original_seq_str  = str(record.seq)\n",
    "            rotated_seq_str   = original_seq_str[rotation:] + original_seq_str[:rotation]\n",
    "            \n",
    "            ## Write to SeqIO record\n",
    "            record.seq  = Seq(rotated_seq_str, Alphabet.generic_dna)\n",
    "            record.id   = \"h2tg000243c-rotated\"\n",
    "            record.description = \"h2tg000243c-rotated\"\n",
    "            \n",
    "            ## There are two copies that are the same (different IDs): only need to write one\n",
    "            break\n",
    "            \n",
    "with open(\"tmp.fa\", \"w\") as output_handle:\n",
    "    SeqIO.write(record, output_handle, \"fasta\")"
   ]
  },
  {
   "cell_type": "code",
   "execution_count": 13,
   "metadata": {},
   "outputs": [],
   "source": [
    "! cat {mt_contigs_fn} tmp.fa > tmp && mv tmp {mt_contigs_fn}"
   ]
  },
  {
   "cell_type": "code",
   "execution_count": 14,
   "metadata": {},
   "outputs": [
    {
     "name": "stdout",
     "output_type": "stream",
     "text": [
      "Copying file://HG03098.all_mito_contigs.fa [Content-Type=application/octet-stream]...\n",
      "/ [1 files][ 49.4 KiB/ 49.4 KiB]                                                \n",
      "Operation completed over 1 objects/49.4 KiB.                                     \n"
     ]
    }
   ],
   "source": [
    "! gsutil cp {mt_contigs_fn} {bucket}mito_work/manually_rotated/{mt_contigs_fn}"
   ]
  },
  {
   "cell_type": "code",
   "execution_count": null,
   "metadata": {},
   "outputs": [],
   "source": []
  },
  {
   "cell_type": "code",
   "execution_count": null,
   "metadata": {},
   "outputs": [],
   "source": []
  }
 ],
 "metadata": {
  "kernelspec": {
   "display_name": "Python 3",
   "language": "python",
   "name": "python3"
  },
  "language_info": {
   "codemirror_mode": {
    "name": "ipython",
    "version": 3
   },
   "file_extension": ".py",
   "mimetype": "text/x-python",
   "name": "python",
   "nbconvert_exporter": "python",
   "pygments_lexer": "ipython3",
   "version": "3.7.9"
  },
  "toc": {
   "base_numbering": 1,
   "nav_menu": {},
   "number_sections": true,
   "sideBar": true,
   "skip_h1_title": false,
   "title_cell": "Table of Contents",
   "title_sidebar": "Contents",
   "toc_cell": false,
   "toc_position": {},
   "toc_section_display": true,
   "toc_window_display": false
  }
 },
 "nbformat": 4,
 "nbformat_minor": 2
}
